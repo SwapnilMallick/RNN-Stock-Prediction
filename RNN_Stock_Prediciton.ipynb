{
 "cells": [
  {
   "cell_type": "markdown",
   "metadata": {
    "id": "BkA_MIlq4fe4"
   },
   "source": [
    "## [Step 1] Import basic libraries"
   ]
  },
  {
   "cell_type": "code",
   "execution_count": 637,
   "metadata": {
    "id": "eD88EY4Q3zBZ"
   },
   "outputs": [],
   "source": [
    "import numpy as np\n",
    "import pandas as pd\n",
    "from sklearn.metrics import mean_squared_error\n",
    "import os"
   ]
  },
  {
   "cell_type": "code",
   "execution_count": 638,
   "metadata": {
    "id": "W7oJ8XqU4MLw"
   },
   "outputs": [],
   "source": [
    "STUDENT_ID = \"2258452509\""
   ]
  },
  {
   "cell_type": "markdown",
   "metadata": {
    "id": "r9zQEp6_4W2R"
   },
   "source": [
    "## [Step 2] Loading the dataset"
   ]
  },
  {
   "cell_type": "code",
   "execution_count": 639,
   "metadata": {
    "colab": {
     "base_uri": "https://localhost:8080/"
    },
    "id": "aPNYjzSQ5cmh",
    "outputId": "62eb638e-d9f1-48f0-f496-fb579162f3c8"
   },
   "outputs": [
    {
     "name": "stdout",
     "output_type": "stream",
     "text": [
      "Drive already mounted at /content/drive; to attempt to forcibly remount, call drive.mount(\"/content/drive\", force_remount=True).\n"
     ]
    }
   ],
   "source": [
    "from google.colab import drive\n",
    "drive.mount('/content/drive')"
   ]
  },
  {
   "cell_type": "code",
   "execution_count": 640,
   "metadata": {
    "id": "PxTeg3Hq4UFZ"
   },
   "outputs": [],
   "source": [
    "df_train = pd.read_csv('drive/MyDrive/PROGRAMMING_ASSIGNMENT_4/train.csv')['price'].values\n",
    "df_train = df_train.reshape(-1, 1)\n",
    "df_test = pd.read_csv('drive/MyDrive/PROGRAMMING_ASSIGNMENT_4/test.csv')['price'].values\n",
    "df_test = df_test.reshape(-1, 1)"
   ]
  },
  {
   "cell_type": "code",
   "execution_count": 641,
   "metadata": {
    "id": "UHrzi32N5uEq"
   },
   "outputs": [],
   "source": [
    "dataset_train = np.array(df_train)\n",
    "dataset_test = np.array(df_test)"
   ]
  },
  {
   "cell_type": "code",
   "execution_count": 642,
   "metadata": {
    "colab": {
     "base_uri": "https://localhost:8080/"
    },
    "id": "bR-fmHVGDYIg",
    "outputId": "22db3ca8-70a8-4e1c-a254-0753c1bbafe5"
   },
   "outputs": [
    {
     "name": "stdout",
     "output_type": "stream",
     "text": [
      "(1007, 1)\n",
      "(209, 1)\n"
     ]
    }
   ],
   "source": [
    "print(dataset_train.shape)\n",
    "print(dataset_test.shape)"
   ]
  },
  {
   "cell_type": "markdown",
   "metadata": {
    "id": "lnad3PzV4VWi"
   },
   "source": [
    "# [Step 3] Pre process your data (no restrictions)"
   ]
  },
  {
   "cell_type": "markdown",
   "metadata": {
    "id": "TT6_MJVv6Arb"
   },
   "source": [
    "## Pre process your data in any way you want"
   ]
  },
  {
   "cell_type": "code",
   "execution_count": 643,
   "metadata": {
    "id": "u0uVS-oR57lX"
   },
   "outputs": [],
   "source": [
    "from sklearn.preprocessing import MinMaxScaler\n",
    "scaler = MinMaxScaler(feature_range=(0,1))\n",
    "dataset_train = scaler.fit_transform(dataset_train)\n",
    "dataset_test = scaler.transform(dataset_test)"
   ]
  },
  {
   "cell_type": "code",
   "execution_count": 644,
   "metadata": {
    "colab": {
     "base_uri": "https://localhost:8080/"
    },
    "id": "eNtjaXvuDmXx",
    "outputId": "5bdd2cbe-46fc-453c-f0a5-cdc15817ad45"
   },
   "outputs": [
    {
     "data": {
      "text/plain": [
       "array([[0.15749167],\n",
       "       [0.16670528],\n",
       "       [0.14431151],\n",
       "       [0.14265361],\n",
       "       [0.14187156]])"
      ]
     },
     "execution_count": 644,
     "metadata": {},
     "output_type": "execute_result"
    }
   ],
   "source": [
    "dataset_train[:5]"
   ]
  },
  {
   "cell_type": "code",
   "execution_count": 645,
   "metadata": {
    "colab": {
     "base_uri": "https://localhost:8080/"
    },
    "id": "fwTGptbvDmfB",
    "outputId": "1aa4fe2f-3900-4f36-d6cd-1aa1ff125c27"
   },
   "outputs": [
    {
     "data": {
      "text/plain": [
       "array([[0.70945808],\n",
       "       [0.73010042],\n",
       "       [0.7308744 ],\n",
       "       [0.7018447 ],\n",
       "       [0.6712539 ]])"
      ]
     },
     "execution_count": 645,
     "metadata": {},
     "output_type": "execute_result"
    }
   ],
   "source": [
    "dataset_test[:5]"
   ]
  },
  {
   "cell_type": "markdown",
   "metadata": {
    "id": "IuG8XCXS6mAo"
   },
   "source": [
    "### We create the X_train and Y_train from the dataset train\n",
    "We take a price on a date as y_train and save the previous 50 closing prices as x_train"
   ]
  },
  {
   "cell_type": "code",
   "execution_count": 646,
   "metadata": {
    "id": "pcIAv-Gm6ie5"
   },
   "outputs": [],
   "source": [
    "trace_back = 50\n",
    "def create_dataset(df):\n",
    "    x, y = [], []\n",
    "    for i in range(trace_back, len(df)):\n",
    "        x.append(df[i-trace_back:i, 0])\n",
    "        y.append(df[i, 0])\n",
    "    return np.array(x),np.array(y)"
   ]
  },
  {
   "cell_type": "code",
   "execution_count": 647,
   "metadata": {
    "id": "R8PznFdQ63BR"
   },
   "outputs": [],
   "source": [
    "x_train, y_train = create_dataset(dataset_train)"
   ]
  },
  {
   "cell_type": "code",
   "execution_count": 648,
   "metadata": {
    "id": "YUwJTfge63Ho"
   },
   "outputs": [],
   "source": [
    "x_test, y_test = create_dataset(dataset_test)"
   ]
  },
  {
   "cell_type": "markdown",
   "metadata": {
    "id": "xyxAhZM56_Fn"
   },
   "source": [
    "## [Step 4] Build your RNN model\n",
    "### You are expect to change the content in the below cell and add your own cells\n",
    "\n",
    "1. You have to design a RNN model that takes in your x_train and do prediction on x_test\n",
    "2. Your model should be able to predict on x_test using model.predict(x_test)\n",
    "3. Do not use any pretrained model."
   ]
  },
  {
   "cell_type": "markdown",
   "metadata": {
    "id": "nXnb2dZR7Ft4"
   },
   "source": [
    "## Your RNN model goes here"
   ]
  },
  {
   "cell_type": "code",
   "execution_count": 649,
   "metadata": {
    "id": "ivUC6-fi7Co4"
   },
   "outputs": [],
   "source": [
    "x_train = np.reshape(x_train, (x_train.shape[0], x_train.shape[1], 1))\n",
    "x_test = np.reshape(x_test, (x_test.shape[0], x_test.shape[1], 1))"
   ]
  },
  {
   "cell_type": "code",
   "execution_count": 650,
   "metadata": {
    "id": "VF5NKlxS7o_J"
   },
   "outputs": [],
   "source": [
    "from keras.models import Sequential, load_model\n",
    "from keras.layers import LSTM, Dense, Dropout"
   ]
  },
  {
   "cell_type": "code",
   "execution_count": 651,
   "metadata": {
    "id": "cqUjjUne7exr"
   },
   "outputs": [],
   "source": [
    "model = Sequential()\n",
    "model.add(LSTM(units=64, return_sequences=True, input_shape=(x_train.shape[1], 1)))\n",
    "model.add(Dropout(0.2))\n",
    "model.add(LSTM(units=64,return_sequences=True))\n",
    "model.add(Dropout(0.2))\n",
    "model.add(LSTM(units=64,return_sequences=True))\n",
    "model.add(Dropout(0.2))\n",
    "model.add(LSTM(units=64))\n",
    "model.add(Dropout(0.2))\n",
    "model.add(Dense(units=1))"
   ]
  },
  {
   "cell_type": "code",
   "execution_count": 652,
   "metadata": {
    "id": "5SelvC4R7sky"
   },
   "outputs": [],
   "source": [
    "x_train = np.reshape(x_train, (x_train.shape[0], x_train.shape[1], 1))\n",
    "x_test = np.reshape(x_test, (x_test.shape[0], x_test.shape[1], 1))"
   ]
  },
  {
   "cell_type": "code",
   "execution_count": 653,
   "metadata": {
    "id": "SXv-EfOQ8F05"
   },
   "outputs": [],
   "source": [
    "model.compile(loss='mean_squared_error', optimizer='adam')"
   ]
  },
  {
   "cell_type": "code",
   "execution_count": 654,
   "metadata": {
    "colab": {
     "base_uri": "https://localhost:8080/"
    },
    "id": "caRfnyRe8JG5",
    "outputId": "45c0e33a-1b58-482a-ba2a-658a102361b2"
   },
   "outputs": [
    {
     "name": "stdout",
     "output_type": "stream",
     "text": [
      "Epoch 1/50\n",
      "120/120 [==============================] - 7s 14ms/step - loss: 0.0193\n",
      "Epoch 2/50\n",
      "120/120 [==============================] - 2s 14ms/step - loss: 0.0082\n",
      "Epoch 3/50\n",
      "120/120 [==============================] - 2s 14ms/step - loss: 0.0083\n",
      "Epoch 4/50\n",
      "120/120 [==============================] - 2s 14ms/step - loss: 0.0063\n",
      "Epoch 5/50\n",
      "120/120 [==============================] - 2s 14ms/step - loss: 0.0052\n",
      "Epoch 6/50\n",
      "120/120 [==============================] - 2s 14ms/step - loss: 0.0051\n",
      "Epoch 7/50\n",
      "120/120 [==============================] - 2s 14ms/step - loss: 0.0053\n",
      "Epoch 8/50\n",
      "120/120 [==============================] - 2s 14ms/step - loss: 0.0049\n",
      "Epoch 9/50\n",
      "120/120 [==============================] - 2s 14ms/step - loss: 0.0040\n",
      "Epoch 10/50\n",
      "120/120 [==============================] - 2s 14ms/step - loss: 0.0043\n",
      "Epoch 11/50\n",
      "120/120 [==============================] - 2s 14ms/step - loss: 0.0039\n",
      "Epoch 12/50\n",
      "120/120 [==============================] - 2s 14ms/step - loss: 0.0036\n",
      "Epoch 13/50\n",
      "120/120 [==============================] - 2s 14ms/step - loss: 0.0038\n",
      "Epoch 14/50\n",
      "120/120 [==============================] - 2s 14ms/step - loss: 0.0033\n",
      "Epoch 15/50\n",
      "120/120 [==============================] - 2s 14ms/step - loss: 0.0033\n",
      "Epoch 16/50\n",
      "120/120 [==============================] - 2s 14ms/step - loss: 0.0034\n",
      "Epoch 17/50\n",
      "120/120 [==============================] - 2s 14ms/step - loss: 0.0029\n",
      "Epoch 18/50\n",
      "120/120 [==============================] - 2s 14ms/step - loss: 0.0030\n",
      "Epoch 19/50\n",
      "120/120 [==============================] - 2s 14ms/step - loss: 0.0028\n",
      "Epoch 20/50\n",
      "120/120 [==============================] - 2s 14ms/step - loss: 0.0032\n",
      "Epoch 21/50\n",
      "120/120 [==============================] - 2s 14ms/step - loss: 0.0028\n",
      "Epoch 22/50\n",
      "120/120 [==============================] - 2s 14ms/step - loss: 0.0030\n",
      "Epoch 23/50\n",
      "120/120 [==============================] - 2s 14ms/step - loss: 0.0024\n",
      "Epoch 24/50\n",
      "120/120 [==============================] - 2s 14ms/step - loss: 0.0027\n",
      "Epoch 25/50\n",
      "120/120 [==============================] - 2s 14ms/step - loss: 0.0026\n",
      "Epoch 26/50\n",
      "120/120 [==============================] - 2s 14ms/step - loss: 0.0026\n",
      "Epoch 27/50\n",
      "120/120 [==============================] - 2s 14ms/step - loss: 0.0024\n",
      "Epoch 28/50\n",
      "120/120 [==============================] - 2s 19ms/step - loss: 0.0024\n",
      "Epoch 29/50\n",
      "120/120 [==============================] - 2s 16ms/step - loss: 0.0024\n",
      "Epoch 30/50\n",
      "120/120 [==============================] - 2s 13ms/step - loss: 0.0024\n",
      "Epoch 31/50\n",
      "120/120 [==============================] - 2s 14ms/step - loss: 0.0023\n",
      "Epoch 32/50\n",
      "120/120 [==============================] - 2s 14ms/step - loss: 0.0021\n",
      "Epoch 33/50\n",
      "120/120 [==============================] - 2s 14ms/step - loss: 0.0022\n",
      "Epoch 34/50\n",
      "120/120 [==============================] - 2s 14ms/step - loss: 0.0026\n",
      "Epoch 35/50\n",
      "120/120 [==============================] - 2s 14ms/step - loss: 0.0022\n",
      "Epoch 36/50\n",
      "120/120 [==============================] - 2s 14ms/step - loss: 0.0019\n",
      "Epoch 37/50\n",
      "120/120 [==============================] - 2s 14ms/step - loss: 0.0017\n",
      "Epoch 38/50\n",
      "120/120 [==============================] - 2s 14ms/step - loss: 0.0018\n",
      "Epoch 39/50\n",
      "120/120 [==============================] - 2s 14ms/step - loss: 0.0020\n",
      "Epoch 40/50\n",
      "120/120 [==============================] - 2s 14ms/step - loss: 0.0020\n",
      "Epoch 41/50\n",
      "120/120 [==============================] - 2s 14ms/step - loss: 0.0020\n",
      "Epoch 42/50\n",
      "120/120 [==============================] - 2s 14ms/step - loss: 0.0021\n",
      "Epoch 43/50\n",
      "120/120 [==============================] - 2s 14ms/step - loss: 0.0017\n",
      "Epoch 44/50\n",
      "120/120 [==============================] - 2s 14ms/step - loss: 0.0018\n",
      "Epoch 45/50\n",
      "120/120 [==============================] - 2s 14ms/step - loss: 0.0019\n",
      "Epoch 46/50\n",
      "120/120 [==============================] - 2s 14ms/step - loss: 0.0017\n",
      "Epoch 47/50\n",
      "120/120 [==============================] - 2s 14ms/step - loss: 0.0018\n",
      "Epoch 48/50\n",
      "120/120 [==============================] - 2s 14ms/step - loss: 0.0017\n",
      "Epoch 49/50\n",
      "120/120 [==============================] - 2s 14ms/step - loss: 0.0016\n",
      "Epoch 50/50\n",
      "120/120 [==============================] - 2s 14ms/step - loss: 0.0016\n"
     ]
    },
    {
     "data": {
      "text/plain": [
       "<keras.callbacks.History at 0x7f166f185d10>"
      ]
     },
     "execution_count": 654,
     "metadata": {},
     "output_type": "execute_result"
    }
   ],
   "source": [
    "model.fit(x_train, y_train, epochs=50, batch_size=8)"
   ]
  },
  {
   "cell_type": "markdown",
   "metadata": {
    "id": "HDqNNaOS8f4h"
   },
   "source": [
    "## [Step 5]: Predictions on X_test\n",
    "DO NOT change the below code"
   ]
  },
  {
   "cell_type": "code",
   "execution_count": 655,
   "metadata": {
    "id": "iBJRAY5-8MIo"
   },
   "outputs": [],
   "source": [
    "predictions = model.predict(x_test)\n",
    "predictions = scaler.inverse_transform(predictions)"
   ]
  },
  {
   "cell_type": "code",
   "execution_count": 656,
   "metadata": {
    "id": "Kz0FP6Ol8dTx"
   },
   "outputs": [],
   "source": [
    "y_test_scaled = scaler.inverse_transform(y_test.reshape(-1, 1))"
   ]
  },
  {
   "cell_type": "code",
   "execution_count": 657,
   "metadata": {
    "colab": {
     "base_uri": "https://localhost:8080/",
     "height": 500
    },
    "id": "Q-uxafU99bFq",
    "outputId": "d0e56a76-4932-4929-da37-6046fdf46e12"
   },
   "outputs": [
    {
     "data": {
      "text/plain": [
       "<matplotlib.legend.Legend at 0x7f166ce85550>"
      ]
     },
     "execution_count": 657,
     "metadata": {},
     "output_type": "execute_result"
    },
    {
     "data": {
      "image/png": "[encoded data removed]",
      "text/plain": [
       "<Figure size 1152x576 with 1 Axes>"
      ]
     },
     "metadata": {
      "needs_background": "light"
     },
     "output_type": "display_data"
    }
   ],
   "source": [
    "import matplotlib.pyplot as plt\n",
    "fig, ax = plt.subplots(figsize=(16,8))\n",
    "ax.set_facecolor('#000041')\n",
    "ax.plot(y_test_scaled, color='red', label='Original price')\n",
    "plt.plot(predictions, color='cyan', label='Predicted price')\n",
    "plt.legend()"
   ]
  },
  {
   "cell_type": "markdown",
   "metadata": {
    "id": "cluFFM918jry"
   },
   "source": [
    "## [Step 6]: Checking the Root Mean Square Error on X_test"
   ]
  },
  {
   "cell_type": "code",
   "execution_count": 658,
   "metadata": {
    "colab": {
     "base_uri": "https://localhost:8080/"
    },
    "id": "ZvRA2U7R8j94",
    "outputId": "555ff34a-4934-4601-a1eb-609bb93e2bce"
   },
   "outputs": [
    {
     "name": "stdout",
     "output_type": "stream",
     "text": [
      "RMSE 2258452509 : 7.2509490761587445\n"
     ]
    }
   ],
   "source": [
    "rmse_score = mean_squared_error([x[0] for x in y_test_scaled], [x[0] for x in predictions], squared=False)\n",
    "print(\"RMSE\",STUDENT_ID,\":\",rmse_score)"
   ]
  },
  {
   "cell_type": "code",
   "execution_count": null,
   "metadata": {
    "id": "7hmzTmT79ljw"
   },
   "outputs": [],
   "source": []
  }
 ],
 "metadata": {
  "accelerator": "GPU",
  "colab": {
   "collapsed_sections": [],
   "name": "PA4_TEST",
   "provenance": []
  },
  "gpuClass": "standard",
  "kernelspec": {
   "display_name": "Python 3 (ipykernel)",
   "language": "python",
   "name": "python3"
  },
  "language_info": {
   "codemirror_mode": {
    "name": "ipython",
    "version": 3
   },
   "file_extension": ".py",
   "mimetype": "text/x-python",
   "name": "python",
   "nbconvert_exporter": "python",
   "pygments_lexer": "ipython3",
   "version": "3.9.7"
  }
 },
 "nbformat": 4,
 "nbformat_minor": 1
}
